{
 "cells": [
  {
   "cell_type": "code",
   "execution_count": null,
   "id": "74b0bbe6",
   "metadata": {},
   "outputs": [],
   "source": [
    "import pandas as pd\n",
    "import google.generativeai as genai\n",
    "from pandasai.llm.base import LLM\n",
    "from pandasai import SmartDataframe\n",
    "from typing import Optional\n",
    "import os\n",
    "from dotenv import load_dotenv\n",
    "load_dotenv()\n",
    "api_key = os.getenv(\"GOOGLE_API_KEY\")\n",
    "\n",
    "class GeminiFlash(LLM):\n",
    "    def __init__(self, api_key: str, model: str = \"gemini-2.5-flash\"):\n",
    "        self.api_key = api_key\n",
    "        self.model_name = model\n",
    "        genai.configure(api_key=api_key)\n",
    "        self.model = genai.GenerativeModel(model_name=model)\n",
    "\n",
    "    def call(self, instruction: str, context: Optional[object] = None, **kwargs) -> str:\n",
    "        if isinstance(context, list):\n",
    "            full_prompt = \"\\n\".join(context) + \"\\n\\n\" + instruction\n",
    "        elif isinstance(context, dict):\n",
    "            full_prompt = str(context) + \"\\n\\n\" + instruction\n",
    "        else:\n",
    "            full_prompt = instruction\n",
    "\n",
    "        try:\n",
    "            response = self.model.generate_content(str(full_prompt))\n",
    "            result = response.text if hasattr(response, \"text\") else str(response)\n",
    "            return result\n",
    "        except Exception as e:\n",
    "            print(f\"Gemini Error: {e}\")\n",
    "            return str(e)\n",
    "\n",
    "    @property\n",
    "    def type(self) -> str:\n",
    "        return \"gemini-flash\"\n",
    "\n",
    "df_train = pd.read_csv('data/train.csv')\n",
    "df_train['Gender_num'] = df_train['Gender'].map({'Male': 0, 'Female': 1})\n",
    "df_gender = df_train[['Gender_num']].copy()\n",
    "\n",
    "\n",
    "llm = GeminiFlash(api_key)\n",
    "\n",
    "sdf = SmartDataframe(df_gender, config={\n",
    "    \"llm\": llm,\n",
    "    \"enable_cache\": False\n",
    "})\n",
    "\n",
    "try:\n",
    "    result = sdf.chat(\"plot Gender_num ( 0 is Male, 1 is Female) \")\n",
    "    print(\"Answer:\", result)\n",
    "except Exception as e:\n",
    "    print(\"PandasAI crash:\", e)\n"
   ]
  }
 ],
 "metadata": {
  "kernelspec": {
   "display_name": "venv311 (3.11.0)",
   "language": "python",
   "name": "python3"
  },
  "language_info": {
   "codemirror_mode": {
    "name": "ipython",
    "version": 3
   },
   "file_extension": ".py",
   "mimetype": "text/x-python",
   "name": "python",
   "nbconvert_exporter": "python",
   "pygments_lexer": "ipython3",
   "version": "3.11.0"
  }
 },
 "nbformat": 4,
 "nbformat_minor": 5
}
